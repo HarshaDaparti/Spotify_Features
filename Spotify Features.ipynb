{
 "cells": [
  {
   "cell_type": "markdown",
   "metadata": {},
   "source": [
    "# Spotify Features"
   ]
  },
  {
   "cell_type": "markdown",
   "metadata": {},
   "source": [
    "### Source : https://www.kaggle.com/zaheenhamidani/ultimate-spotify-tracks-db"
   ]
  },
  {
   "cell_type": "markdown",
   "metadata": {},
   "source": [
    "### The dataset tells you about several attributes of a particular song.\n",
    "#### There are 18 columns and about 288,000 songs"
   ]
  },
  {
   "cell_type": "markdown",
   "metadata": {},
   "source": [
    " ### Column Names with descriptions:\n",
    "- #### popularity - A measure that tells number of times the song is played.\n",
    "- #### track_name - Name of the song\n",
    "- #### genre - The genre that song belongs to.\n",
    "- #### artist_name - Name of the artist of the song.\n",
    "-  #### acousticness - A confidence measure from 0.0 to 1.0 of whether the track is acoustic. 1.0 represents high confidence the track is acoustic.\n",
    "- #### danceability - Danceability describes how suitable a track is for dancing based on a combination of musical elements including tempo, rhythm stability, beat strength, and overall regularity. A value of 0.0 is least danceable and 1.0 is most danceable.\n",
    "- #### duration_ms - The duration of the track in milliseconds.\n",
    "- #### energy - Energy is a measure from 0.0 to 1.0 and represents a perceptual measure of intensity and activity. Typically, energetic tracks feel fast, loud, and noisy. For example, death metal has high energy, while a Bach prelude scores low on the scale. Perceptual features contributing to this attribute include dynamic range, perceived loudness, timbre, onset rate, and general entropy.\n",
    "- #### track_id - The Spotify ID for the track.\n",
    "- #### instrumentalness - Predicts whether a track contains no vocals. “Ooh” and “aah” sounds are treated as instrumental in this context. Rap or spoken word tracks are clearly “vocal”. The closer the instrumentalness value is to 1.0, the greater likelihood the track contains no vocal content. Values above 0.5 are intended to represent instrumental tracks, but confidence is higher as the value approaches 1.0.\n",
    "- #### key - The key the track is in. Integers map to pitches using standard Pitch Class notation . E.g. 0 = C, 1 = C♯/D♭, 2 = D, and so on.\n",
    "- #### mode - Mode indicates the modality (major or minor) of a track, the type of scale from which its melodic content is derived. Major is represented by 1 and minor is 0.\n",
    "- #### liveness - Detects the presence of an audience in the recording. Higher liveness values represent an increased probability that the track was performed live. A value above 0.8 provides strong likelihood that the track is live.\n",
    "- #### loudness - The overall loudness of a track in decibels (dB). Loudness values are averaged across the entire track and are useful for comparing relative loudness of tracks. Loudness is the quality of a sound that is the primary psychological correlate of physical strength (amplitude). Values typical range between -60 and 0 db.\n",
    "- #### speechiness - Speechiness detects the presence of spoken words in a track. The more exclusively speech-like the recording (e.g. talk show, audio book, poetry), the closer to 1.0 the attribute value. Values above 0.66 describe tracks that are probably made entirely of spoken words. Values between 0.33 and 0.66 describe tracks that may contain both music and speech, either in sections or layered, including such cases as rap music. Values below 0.33 most likely represent music and other non-speech-like tracks.\n",
    "- #### tempo - The overall estimated tempo of a track in beats per minute (BPM). In musical terminology, tempo is the speed or pace of a given piece and derives directly from the average beat duration.\n",
    "- #### time_signature - An estimated overall time signature of a track. The time signature (meter) is a notational convention to specify how many beats are in each bar (or measure).\n",
    "- #### valence - A measure from 0.0 to 1.0 describing the musical positiveness conveyed by a track. Tracks with high valence sound more positive (e.g. happy, cheerful, euphoric), while tracks with low valence sound more negative (e.g. sad, depressed, angry)."
   ]
  },
  {
   "cell_type": "markdown",
   "metadata": {},
   "source": [
    "## Questions :\n",
    "\n",
    "### 1. What factors have the most effect on the valence of a given song?\n",
    "### 2. How do these factors effect the valence?"
   ]
  },
  {
   "cell_type": "markdown",
   "metadata": {},
   "source": [
    "## Answers:\n",
    "### 1. All the attributes given have a role to play in calculation of valence. But, Tempo and Energy are the two which highly effect a given song.\n",
    "### 2. Tempo is inversely proportional to valence of a song while a song with more energy has more valence."
   ]
  },
  {
   "cell_type": "code",
   "execution_count": 1,
   "metadata": {},
   "outputs": [],
   "source": [
    "import pandas as pd\n",
    "import matplotlib.pyplot as plt"
   ]
  },
  {
   "cell_type": "code",
   "execution_count": 2,
   "metadata": {},
   "outputs": [
    {
     "data": {
      "text/plain": [
       "Index(['genre', 'artist_name', 'track_name', 'track_id', 'popularity',\n",
       "       'acousticness', 'danceability', 'duration_ms', 'energy',\n",
       "       'instrumentalness', 'key', 'liveness', 'loudness', 'mode',\n",
       "       'speechiness', 'tempo', 'time_signature', 'valence'],\n",
       "      dtype='object')"
      ]
     },
     "execution_count": 2,
     "metadata": {},
     "output_type": "execute_result"
    }
   ],
   "source": [
    "df = pd.read_csv(\"SpotifyFeatures.csv\")\n",
    "df.columns"
   ]
  },
  {
   "cell_type": "code",
   "execution_count": 3,
   "metadata": {},
   "outputs": [
    {
     "data": {
      "text/html": [
       "<div>\n",
       "<style scoped>\n",
       "    .dataframe tbody tr th:only-of-type {\n",
       "        vertical-align: middle;\n",
       "    }\n",
       "\n",
       "    .dataframe tbody tr th {\n",
       "        vertical-align: top;\n",
       "    }\n",
       "\n",
       "    .dataframe thead th {\n",
       "        text-align: right;\n",
       "    }\n",
       "</style>\n",
       "<table border=\"1\" class=\"dataframe\">\n",
       "  <thead>\n",
       "    <tr style=\"text-align: right;\">\n",
       "      <th></th>\n",
       "      <th>genre</th>\n",
       "      <th>artist_name</th>\n",
       "      <th>track_name</th>\n",
       "      <th>track_id</th>\n",
       "      <th>popularity</th>\n",
       "      <th>acousticness</th>\n",
       "      <th>danceability</th>\n",
       "      <th>duration_ms</th>\n",
       "      <th>energy</th>\n",
       "      <th>instrumentalness</th>\n",
       "      <th>key</th>\n",
       "      <th>liveness</th>\n",
       "      <th>loudness</th>\n",
       "      <th>mode</th>\n",
       "      <th>speechiness</th>\n",
       "      <th>tempo</th>\n",
       "      <th>time_signature</th>\n",
       "      <th>valence</th>\n",
       "    </tr>\n",
       "  </thead>\n",
       "  <tbody>\n",
       "    <tr>\n",
       "      <th>0</th>\n",
       "      <td>Opera</td>\n",
       "      <td>Giuseppe Verdi</td>\n",
       "      <td>Stiffelio, Act III: Ei fugge! … Lina, pensai c...</td>\n",
       "      <td>7EsKYeHtTc4H4xWiTqSVZA</td>\n",
       "      <td>21</td>\n",
       "      <td>0.986</td>\n",
       "      <td>0.313</td>\n",
       "      <td>490867</td>\n",
       "      <td>0.23100</td>\n",
       "      <td>0.000431</td>\n",
       "      <td>C#</td>\n",
       "      <td>0.0964</td>\n",
       "      <td>-14.287</td>\n",
       "      <td>Major</td>\n",
       "      <td>0.0547</td>\n",
       "      <td>86.001</td>\n",
       "      <td>4/4</td>\n",
       "      <td>0.0886</td>\n",
       "    </tr>\n",
       "    <tr>\n",
       "      <th>1</th>\n",
       "      <td>Opera</td>\n",
       "      <td>Giacomo Puccini</td>\n",
       "      <td>Madama Butterfly / Act 1: ... E soffitto e pareti</td>\n",
       "      <td>7MfmRBvqaW0I6UTxXnad8p</td>\n",
       "      <td>18</td>\n",
       "      <td>0.972</td>\n",
       "      <td>0.360</td>\n",
       "      <td>176797</td>\n",
       "      <td>0.20100</td>\n",
       "      <td>0.028000</td>\n",
       "      <td>D#</td>\n",
       "      <td>0.1330</td>\n",
       "      <td>-19.794</td>\n",
       "      <td>Major</td>\n",
       "      <td>0.0581</td>\n",
       "      <td>131.798</td>\n",
       "      <td>4/4</td>\n",
       "      <td>0.3690</td>\n",
       "    </tr>\n",
       "    <tr>\n",
       "      <th>2</th>\n",
       "      <td>Opera</td>\n",
       "      <td>Giacomo Puccini</td>\n",
       "      <td>Turandot / Act 2: Gloria, gloria, o vincitore</td>\n",
       "      <td>7pBo1GDhIysyUMFXiDVoON</td>\n",
       "      <td>10</td>\n",
       "      <td>0.935</td>\n",
       "      <td>0.168</td>\n",
       "      <td>266184</td>\n",
       "      <td>0.47000</td>\n",
       "      <td>0.020400</td>\n",
       "      <td>C</td>\n",
       "      <td>0.3630</td>\n",
       "      <td>-8.415</td>\n",
       "      <td>Major</td>\n",
       "      <td>0.0383</td>\n",
       "      <td>75.126</td>\n",
       "      <td>3/4</td>\n",
       "      <td>0.0696</td>\n",
       "    </tr>\n",
       "    <tr>\n",
       "      <th>3</th>\n",
       "      <td>Opera</td>\n",
       "      <td>Giuseppe Verdi</td>\n",
       "      <td>Rigoletto, Act IV: Venti scudi hai tu detto?</td>\n",
       "      <td>02mvYZX5aKNzdqEo6jF20m</td>\n",
       "      <td>17</td>\n",
       "      <td>0.961</td>\n",
       "      <td>0.250</td>\n",
       "      <td>288573</td>\n",
       "      <td>0.00605</td>\n",
       "      <td>0.000000</td>\n",
       "      <td>D</td>\n",
       "      <td>0.1200</td>\n",
       "      <td>-33.440</td>\n",
       "      <td>Major</td>\n",
       "      <td>0.0480</td>\n",
       "      <td>76.493</td>\n",
       "      <td>4/4</td>\n",
       "      <td>0.0380</td>\n",
       "    </tr>\n",
       "    <tr>\n",
       "      <th>4</th>\n",
       "      <td>Opera</td>\n",
       "      <td>Giuseppe Verdi</td>\n",
       "      <td>Don Carlo / Act 4: \"Ella giammai m'amò!\"</td>\n",
       "      <td>03TW0jwGMGhUabAjOpB1T9</td>\n",
       "      <td>19</td>\n",
       "      <td>0.985</td>\n",
       "      <td>0.142</td>\n",
       "      <td>629760</td>\n",
       "      <td>0.05800</td>\n",
       "      <td>0.146000</td>\n",
       "      <td>D</td>\n",
       "      <td>0.0969</td>\n",
       "      <td>-23.625</td>\n",
       "      <td>Major</td>\n",
       "      <td>0.0493</td>\n",
       "      <td>172.935</td>\n",
       "      <td>4/4</td>\n",
       "      <td>0.0382</td>\n",
       "    </tr>\n",
       "  </tbody>\n",
       "</table>\n",
       "</div>"
      ],
      "text/plain": [
       "   genre      artist_name                                         track_name  \\\n",
       "0  Opera   Giuseppe Verdi  Stiffelio, Act III: Ei fugge! … Lina, pensai c...   \n",
       "1  Opera  Giacomo Puccini  Madama Butterfly / Act 1: ... E soffitto e pareti   \n",
       "2  Opera  Giacomo Puccini      Turandot / Act 2: Gloria, gloria, o vincitore   \n",
       "3  Opera   Giuseppe Verdi       Rigoletto, Act IV: Venti scudi hai tu detto?   \n",
       "4  Opera   Giuseppe Verdi           Don Carlo / Act 4: \"Ella giammai m'amò!\"   \n",
       "\n",
       "                 track_id  popularity  acousticness  danceability  \\\n",
       "0  7EsKYeHtTc4H4xWiTqSVZA          21         0.986         0.313   \n",
       "1  7MfmRBvqaW0I6UTxXnad8p          18         0.972         0.360   \n",
       "2  7pBo1GDhIysyUMFXiDVoON          10         0.935         0.168   \n",
       "3  02mvYZX5aKNzdqEo6jF20m          17         0.961         0.250   \n",
       "4  03TW0jwGMGhUabAjOpB1T9          19         0.985         0.142   \n",
       "\n",
       "   duration_ms   energy  instrumentalness key  liveness  loudness   mode  \\\n",
       "0       490867  0.23100          0.000431  C#    0.0964   -14.287  Major   \n",
       "1       176797  0.20100          0.028000  D#    0.1330   -19.794  Major   \n",
       "2       266184  0.47000          0.020400   C    0.3630    -8.415  Major   \n",
       "3       288573  0.00605          0.000000   D    0.1200   -33.440  Major   \n",
       "4       629760  0.05800          0.146000   D    0.0969   -23.625  Major   \n",
       "\n",
       "   speechiness    tempo time_signature  valence  \n",
       "0       0.0547   86.001            4/4   0.0886  \n",
       "1       0.0581  131.798            4/4   0.3690  \n",
       "2       0.0383   75.126            3/4   0.0696  \n",
       "3       0.0480   76.493            4/4   0.0380  \n",
       "4       0.0493  172.935            4/4   0.0382  "
      ]
     },
     "execution_count": 3,
     "metadata": {},
     "output_type": "execute_result"
    }
   ],
   "source": [
    "df.head()"
   ]
  },
  {
   "cell_type": "code",
   "execution_count": 4,
   "metadata": {},
   "outputs": [
    {
     "data": {
      "text/plain": [
       "(228159, 18)"
      ]
     },
     "execution_count": 4,
     "metadata": {},
     "output_type": "execute_result"
    }
   ],
   "source": [
    "df.shape"
   ]
  },
  {
   "cell_type": "code",
   "execution_count": 5,
   "metadata": {},
   "outputs": [],
   "source": [
    "df = df.drop(['artist_name','track_name','track_id'], axis = 1 )\n",
    "\n",
    "#to scale down\n",
    "df.duration_ms = df.duration_ms / 60000\n",
    "\n",
    "df.columns = ['genre', 'popularity', 'acousticness',\n",
    "       'danceability', 'duration_min', 'energy', 'instrumentalness','key', 'liveness',\n",
    "       'loudness', 'mode', 'speechiness', 'tempo', 'time_signature',\n",
    "       'valence']"
   ]
  },
  {
   "cell_type": "code",
   "execution_count": 6,
   "metadata": {},
   "outputs": [
    {
     "data": {
      "text/html": [
       "<div>\n",
       "<style scoped>\n",
       "    .dataframe tbody tr th:only-of-type {\n",
       "        vertical-align: middle;\n",
       "    }\n",
       "\n",
       "    .dataframe tbody tr th {\n",
       "        vertical-align: top;\n",
       "    }\n",
       "\n",
       "    .dataframe thead th {\n",
       "        text-align: right;\n",
       "    }\n",
       "</style>\n",
       "<table border=\"1\" class=\"dataframe\">\n",
       "  <thead>\n",
       "    <tr style=\"text-align: right;\">\n",
       "      <th></th>\n",
       "      <th>popularity</th>\n",
       "      <th>acousticness</th>\n",
       "      <th>danceability</th>\n",
       "      <th>duration_min</th>\n",
       "      <th>energy</th>\n",
       "      <th>instrumentalness</th>\n",
       "      <th>liveness</th>\n",
       "      <th>loudness</th>\n",
       "      <th>speechiness</th>\n",
       "      <th>tempo</th>\n",
       "      <th>valence</th>\n",
       "    </tr>\n",
       "  </thead>\n",
       "  <tbody>\n",
       "    <tr>\n",
       "      <th>count</th>\n",
       "      <td>228159.000000</td>\n",
       "      <td>228159.000000</td>\n",
       "      <td>228159.000000</td>\n",
       "      <td>228159.000000</td>\n",
       "      <td>228159.000000</td>\n",
       "      <td>228159.000000</td>\n",
       "      <td>228159.000000</td>\n",
       "      <td>228159.000000</td>\n",
       "      <td>228159.000000</td>\n",
       "      <td>228159.000000</td>\n",
       "      <td>228159.000000</td>\n",
       "    </tr>\n",
       "    <tr>\n",
       "      <th>mean</th>\n",
       "      <td>44.209130</td>\n",
       "      <td>0.351200</td>\n",
       "      <td>0.554198</td>\n",
       "      <td>3.943487</td>\n",
       "      <td>0.580967</td>\n",
       "      <td>0.137310</td>\n",
       "      <td>0.214638</td>\n",
       "      <td>-9.354658</td>\n",
       "      <td>0.122442</td>\n",
       "      <td>117.423062</td>\n",
       "      <td>0.444795</td>\n",
       "    </tr>\n",
       "    <tr>\n",
       "      <th>std</th>\n",
       "      <td>17.276599</td>\n",
       "      <td>0.351385</td>\n",
       "      <td>0.183949</td>\n",
       "      <td>1.944645</td>\n",
       "      <td>0.260577</td>\n",
       "      <td>0.292447</td>\n",
       "      <td>0.196977</td>\n",
       "      <td>5.940994</td>\n",
       "      <td>0.186264</td>\n",
       "      <td>30.712458</td>\n",
       "      <td>0.255397</td>\n",
       "    </tr>\n",
       "    <tr>\n",
       "      <th>min</th>\n",
       "      <td>0.000000</td>\n",
       "      <td>0.000001</td>\n",
       "      <td>0.056900</td>\n",
       "      <td>0.258483</td>\n",
       "      <td>0.000020</td>\n",
       "      <td>0.000000</td>\n",
       "      <td>0.009670</td>\n",
       "      <td>-52.457000</td>\n",
       "      <td>0.022200</td>\n",
       "      <td>30.379000</td>\n",
       "      <td>0.000000</td>\n",
       "    </tr>\n",
       "    <tr>\n",
       "      <th>25%</th>\n",
       "      <td>33.000000</td>\n",
       "      <td>0.030900</td>\n",
       "      <td>0.437000</td>\n",
       "      <td>3.104217</td>\n",
       "      <td>0.405000</td>\n",
       "      <td>0.000000</td>\n",
       "      <td>0.097700</td>\n",
       "      <td>-11.287000</td>\n",
       "      <td>0.036800</td>\n",
       "      <td>92.734000</td>\n",
       "      <td>0.232000</td>\n",
       "    </tr>\n",
       "    <tr>\n",
       "      <th>50%</th>\n",
       "      <td>47.000000</td>\n",
       "      <td>0.205000</td>\n",
       "      <td>0.570000</td>\n",
       "      <td>3.686217</td>\n",
       "      <td>0.618000</td>\n",
       "      <td>0.000037</td>\n",
       "      <td>0.128000</td>\n",
       "      <td>-7.515000</td>\n",
       "      <td>0.050600</td>\n",
       "      <td>115.347000</td>\n",
       "      <td>0.430000</td>\n",
       "    </tr>\n",
       "    <tr>\n",
       "      <th>75%</th>\n",
       "      <td>57.000000</td>\n",
       "      <td>0.689000</td>\n",
       "      <td>0.690000</td>\n",
       "      <td>4.414000</td>\n",
       "      <td>0.793000</td>\n",
       "      <td>0.023400</td>\n",
       "      <td>0.263000</td>\n",
       "      <td>-5.415000</td>\n",
       "      <td>0.109000</td>\n",
       "      <td>138.887000</td>\n",
       "      <td>0.643000</td>\n",
       "    </tr>\n",
       "    <tr>\n",
       "      <th>max</th>\n",
       "      <td>100.000000</td>\n",
       "      <td>0.996000</td>\n",
       "      <td>0.987000</td>\n",
       "      <td>92.548617</td>\n",
       "      <td>0.999000</td>\n",
       "      <td>0.999000</td>\n",
       "      <td>1.000000</td>\n",
       "      <td>1.585000</td>\n",
       "      <td>0.967000</td>\n",
       "      <td>239.848000</td>\n",
       "      <td>1.000000</td>\n",
       "    </tr>\n",
       "  </tbody>\n",
       "</table>\n",
       "</div>"
      ],
      "text/plain": [
       "          popularity   acousticness   danceability   duration_min  \\\n",
       "count  228159.000000  228159.000000  228159.000000  228159.000000   \n",
       "mean       44.209130       0.351200       0.554198       3.943487   \n",
       "std        17.276599       0.351385       0.183949       1.944645   \n",
       "min         0.000000       0.000001       0.056900       0.258483   \n",
       "25%        33.000000       0.030900       0.437000       3.104217   \n",
       "50%        47.000000       0.205000       0.570000       3.686217   \n",
       "75%        57.000000       0.689000       0.690000       4.414000   \n",
       "max       100.000000       0.996000       0.987000      92.548617   \n",
       "\n",
       "              energy  instrumentalness       liveness       loudness  \\\n",
       "count  228159.000000     228159.000000  228159.000000  228159.000000   \n",
       "mean        0.580967          0.137310       0.214638      -9.354658   \n",
       "std         0.260577          0.292447       0.196977       5.940994   \n",
       "min         0.000020          0.000000       0.009670     -52.457000   \n",
       "25%         0.405000          0.000000       0.097700     -11.287000   \n",
       "50%         0.618000          0.000037       0.128000      -7.515000   \n",
       "75%         0.793000          0.023400       0.263000      -5.415000   \n",
       "max         0.999000          0.999000       1.000000       1.585000   \n",
       "\n",
       "         speechiness          tempo        valence  \n",
       "count  228159.000000  228159.000000  228159.000000  \n",
       "mean        0.122442     117.423062       0.444795  \n",
       "std         0.186264      30.712458       0.255397  \n",
       "min         0.022200      30.379000       0.000000  \n",
       "25%         0.036800      92.734000       0.232000  \n",
       "50%         0.050600     115.347000       0.430000  \n",
       "75%         0.109000     138.887000       0.643000  \n",
       "max         0.967000     239.848000       1.000000  "
      ]
     },
     "execution_count": 6,
     "metadata": {},
     "output_type": "execute_result"
    }
   ],
   "source": [
    "df.describe()"
   ]
  },
  {
   "cell_type": "markdown",
   "metadata": {},
   "source": [
    "##### Check for Null values"
   ]
  },
  {
   "cell_type": "code",
   "execution_count": 7,
   "metadata": {},
   "outputs": [
    {
     "data": {
      "text/plain": [
       "genre               0\n",
       "popularity          0\n",
       "acousticness        0\n",
       "danceability        0\n",
       "duration_min        0\n",
       "energy              0\n",
       "instrumentalness    0\n",
       "key                 0\n",
       "liveness            0\n",
       "loudness            0\n",
       "mode                0\n",
       "speechiness         0\n",
       "tempo               0\n",
       "time_signature      0\n",
       "valence             0\n",
       "dtype: int64"
      ]
     },
     "execution_count": 7,
     "metadata": {},
     "output_type": "execute_result"
    }
   ],
   "source": [
    "df.isna().sum()"
   ]
  },
  {
   "cell_type": "markdown",
   "metadata": {},
   "source": [
    "##### Check for missing values"
   ]
  },
  {
   "cell_type": "code",
   "execution_count": 8,
   "metadata": {},
   "outputs": [
    {
     "data": {
      "text/plain": [
       "genre               228159\n",
       "popularity          228159\n",
       "acousticness        228159\n",
       "danceability        228159\n",
       "duration_min        228159\n",
       "energy              228159\n",
       "instrumentalness    228159\n",
       "key                 228159\n",
       "liveness            228159\n",
       "loudness            228159\n",
       "mode                228159\n",
       "speechiness         228159\n",
       "tempo               228159\n",
       "time_signature      228159\n",
       "valence             228159\n",
       "dtype: int64"
      ]
     },
     "execution_count": 8,
     "metadata": {},
     "output_type": "execute_result"
    }
   ],
   "source": [
    "df.count()"
   ]
  },
  {
   "cell_type": "markdown",
   "metadata": {},
   "source": [
    "##### Check the datatypes of each of the attributes"
   ]
  },
  {
   "cell_type": "code",
   "execution_count": 9,
   "metadata": {},
   "outputs": [
    {
     "data": {
      "text/plain": [
       "genre                object\n",
       "popularity            int64\n",
       "acousticness        float64\n",
       "danceability        float64\n",
       "duration_min        float64\n",
       "energy              float64\n",
       "instrumentalness    float64\n",
       "key                  object\n",
       "liveness            float64\n",
       "loudness            float64\n",
       "mode                 object\n",
       "speechiness         float64\n",
       "tempo               float64\n",
       "time_signature       object\n",
       "valence             float64\n",
       "dtype: object"
      ]
     },
     "execution_count": 9,
     "metadata": {},
     "output_type": "execute_result"
    }
   ],
   "source": [
    "df.dtypes"
   ]
  },
  {
   "cell_type": "markdown",
   "metadata": {},
   "source": [
    "There are no null or missing values to take care of"
   ]
  },
  {
   "cell_type": "markdown",
   "metadata": {},
   "source": [
    "##### Just plotting the data as a whole"
   ]
  },
  {
   "cell_type": "code",
   "execution_count": 10,
   "metadata": {},
   "outputs": [
    {
     "data": {
      "text/plain": [
       "<matplotlib.axes._subplots.AxesSubplot at 0x7fcc592bdba8>"
      ]
     },
     "execution_count": 10,
     "metadata": {},
     "output_type": "execute_result"
    },
    {
     "data": {
      "image/png": "[encoded data removed]",
      "text/plain": [
       "<Figure size 432x288 with 1 Axes>"
      ]
     },
     "metadata": {
      "needs_background": "light"
     },
     "output_type": "display_data"
    }
   ],
   "source": [
    "df.plot()"
   ]
  },
  {
   "cell_type": "markdown",
   "metadata": {},
   "source": [
    "##### Scaling down 'tempo' and plotting again"
   ]
  },
  {
   "cell_type": "code",
   "execution_count": 11,
   "metadata": {},
   "outputs": [
    {
     "data": {
      "text/plain": [
       "<matplotlib.axes._subplots.AxesSubplot at 0x7fcc5914dda0>"
      ]
     },
     "execution_count": 11,
     "metadata": {},
     "output_type": "execute_result"
    },
    {
     "data": {
      "image/png": "[encoded data removed]",
      "text/plain": [
       "<Figure size 432x288 with 1 Axes>"
      ]
     },
     "metadata": {
      "needs_background": "light"
     },
     "output_type": "display_data"
    }
   ],
   "source": [
    "df.tempo = df.tempo / 100\n",
    "df.plot()"
   ]
  },
  {
   "cell_type": "markdown",
   "metadata": {},
   "source": [
    "#### Let us check the frequencies of each of the attributes by plotting histograms. Just to know how the attributes are distributed."
   ]
  },
  {
   "cell_type": "code",
   "execution_count": 12,
   "metadata": {},
   "outputs": [
    {
     "data": {
      "text/plain": [
       "(array([  3.00000000e+00,   4.00000000e+00,   1.30000000e+01,\n",
       "          2.20000000e+01,   2.00000000e+01,   1.40000000e+01,\n",
       "          1.50000000e+01,   9.00000000e+00,   2.00000000e+01,\n",
       "          2.80000000e+01,   5.00000000e+01,   6.30000000e+01,\n",
       "          7.50000000e+01,   9.50000000e+01,   1.18000000e+02,\n",
       "          9.70000000e+01,   1.15000000e+02,   1.61000000e+02,\n",
       "          2.22000000e+02,   3.81000000e+02,   4.06000000e+02,\n",
       "          5.62000000e+02,   5.58000000e+02,   7.66000000e+02,\n",
       "          1.03300000e+03,   8.52000000e+02,   1.06500000e+03,\n",
       "          1.31500000e+03,   1.79300000e+03,   3.05900000e+03,\n",
       "          3.26600000e+03,   3.37700000e+03,   4.88800000e+03,\n",
       "          3.63000000e+03,   4.43400000e+03,   3.33100000e+03,\n",
       "          3.65600000e+03,   2.90200000e+03,   3.66500000e+03,\n",
       "          5.01400000e+03,   4.85200000e+03,   3.63300000e+03,\n",
       "          6.23700000e+03,   4.02700000e+03,   4.69200000e+03,\n",
       "          2.47900000e+03,   5.76100000e+03,   2.88900000e+03,\n",
       "          3.57000000e+03,   3.50400000e+03,   3.35800000e+03,\n",
       "          2.80100000e+03,   4.49200000e+03,   2.30800000e+03,\n",
       "          3.61600000e+03,   2.59100000e+03,   4.24400000e+03,\n",
       "          2.48600000e+03,   3.37700000e+03,   6.77600000e+03,\n",
       "          3.50600000e+03,   2.71700000e+03,   4.99900000e+03,\n",
       "          3.23700000e+03,   5.11400000e+03,   2.29800000e+03,\n",
       "          5.39000000e+03,   2.97200000e+03,   3.26900000e+03,\n",
       "          2.99900000e+03,   3.16500000e+03,   2.65600000e+03,\n",
       "          5.94200000e+03,   1.79300000e+03,   2.68300000e+03,\n",
       "          3.01900000e+03,   3.18300000e+03,   1.62100000e+03,\n",
       "          2.12800000e+03,   3.55900000e+03,   1.64800000e+03,\n",
       "          9.73000000e+02,   1.58500000e+03,   1.48700000e+03,\n",
       "          1.26100000e+03,   1.52000000e+03,   1.74600000e+03,\n",
       "          1.06700000e+03,   1.26700000e+03,   1.09900000e+03,\n",
       "          1.07900000e+03,   1.62100000e+03,   2.26600000e+03,\n",
       "          1.69500000e+03,   1.27000000e+03,   1.80100000e+03,\n",
       "          1.56000000e+03,   9.63000000e+02,   6.43000000e+02,\n",
       "          1.70800000e+03,   4.28000000e+02,   5.64000000e+02,\n",
       "          4.14000000e+02,   4.79000000e+02,   3.68000000e+02,\n",
       "          3.59000000e+02,   1.35000000e+02,   2.82000000e+02,\n",
       "          1.84000000e+02,   2.49000000e+02,   7.50000000e+01,\n",
       "          1.86000000e+02,   3.74000000e+02,   1.38000000e+02,\n",
       "          1.15000000e+02,   1.87000000e+02,   1.16000000e+02,\n",
       "          7.20000000e+01,   2.90000000e+01,   2.60000000e+01,\n",
       "          2.00000000e+01,   2.30000000e+01,   3.00000000e+00,\n",
       "          8.00000000e+00,   9.00000000e+00,   7.00000000e+00,\n",
       "          1.00000000e+00,   0.00000000e+00,   0.00000000e+00,\n",
       "          0.00000000e+00,   0.00000000e+00,   0.00000000e+00,\n",
       "          2.00000000e+00,   0.00000000e+00,   2.00000000e+00,\n",
       "          1.00000000e+00,   3.00000000e+00,   0.00000000e+00,\n",
       "          1.00000000e+00]),\n",
       " array([ 0.30379   ,  0.31885971,  0.33392942,  0.34899914,  0.36406885,\n",
       "         0.37913856,  0.39420827,  0.40927799,  0.4243477 ,  0.43941741,\n",
       "         0.45448712,  0.46955683,  0.48462655,  0.49969626,  0.51476597,\n",
       "         0.52983568,  0.5449054 ,  0.55997511,  0.57504482,  0.59011453,\n",
       "         0.60518424,  0.62025396,  0.63532367,  0.65039338,  0.66546309,\n",
       "         0.68053281,  0.69560252,  0.71067223,  0.72574194,  0.74081165,\n",
       "         0.75588137,  0.77095108,  0.78602079,  0.8010905 ,  0.81616022,\n",
       "         0.83122993,  0.84629964,  0.86136935,  0.87643906,  0.89150878,\n",
       "         0.90657849,  0.9216482 ,  0.93671791,  0.95178763,  0.96685734,\n",
       "         0.98192705,  0.99699676,  1.01206647,  1.02713619,  1.0422059 ,\n",
       "         1.05727561,  1.07234532,  1.08741504,  1.10248475,  1.11755446,\n",
       "         1.13262417,  1.14769388,  1.1627636 ,  1.17783331,  1.19290302,\n",
       "         1.20797273,  1.22304245,  1.23811216,  1.25318187,  1.26825158,\n",
       "         1.28332129,  1.29839101,  1.31346072,  1.32853043,  1.34360014,\n",
       "         1.35866986,  1.37373957,  1.38880928,  1.40387899,  1.41894871,\n",
       "         1.43401842,  1.44908813,  1.46415784,  1.47922755,  1.49429727,\n",
       "         1.50936698,  1.52443669,  1.5395064 ,  1.55457612,  1.56964583,\n",
       "         1.58471554,  1.59978525,  1.61485496,  1.62992468,  1.64499439,\n",
       "         1.6600641 ,  1.67513381,  1.69020353,  1.70527324,  1.72034295,\n",
       "         1.73541266,  1.75048237,  1.76555209,  1.7806218 ,  1.79569151,\n",
       "         1.81076122,  1.82583094,  1.84090065,  1.85597036,  1.87104007,\n",
       "         1.88610978,  1.9011795 ,  1.91624921,  1.93131892,  1.94638863,\n",
       "         1.96145835,  1.97652806,  1.99159777,  2.00666748,  2.02173719,\n",
       "         2.03680691,  2.05187662,  2.06694633,  2.08201604,  2.09708576,\n",
       "         2.11215547,  2.12722518,  2.14229489,  2.1573646 ,  2.17243432,\n",
       "         2.18750403,  2.20257374,  2.21764345,  2.23271317,  2.24778288,\n",
       "         2.26285259,  2.2779223 ,  2.29299201,  2.30806173,  2.32313144,\n",
       "         2.33820115,  2.35327086,  2.36834058,  2.38341029,  2.39848   ]),\n",
       " <a list of 139 Patch objects>)"
      ]
     },
     "execution_count": 12,
     "metadata": {},
     "output_type": "execute_result"
    },
    {
     "data": {
      "image/png": "[encoded data removed]",
      "text/plain": [
       "<Figure size 432x288 with 1 Axes>"
      ]
     },
     "metadata": {
      "needs_background": "light"
     },
     "output_type": "display_data"
    }
   ],
   "source": [
    "plt.hist(df.tempo, bins = 'auto')"
   ]
  },
  {
   "cell_type": "code",
   "execution_count": 13,
   "metadata": {},
   "outputs": [
    {
     "data": {
      "text/plain": [
       "(array([  3.31400000e+03,   7.47000000e+02,   6.18000000e+02,\n",
       "          6.26000000e+02,   0.00000000e+00,   6.56000000e+02,\n",
       "          7.98000000e+02,   7.09000000e+02,   6.88000000e+02,\n",
       "          0.00000000e+00,   7.87000000e+02,   8.59000000e+02,\n",
       "          1.09500000e+03,   0.00000000e+00,   1.23800000e+03,\n",
       "          1.29700000e+03,   1.28700000e+03,   1.19500000e+03,\n",
       "          0.00000000e+00,   1.27200000e+03,   1.15500000e+03,\n",
       "          1.23900000e+03,   0.00000000e+00,   1.21600000e+03,\n",
       "          1.42100000e+03,   1.52500000e+03,   1.73800000e+03,\n",
       "          0.00000000e+00,   1.93300000e+03,   2.11700000e+03,\n",
       "          2.27300000e+03,   0.00000000e+00,   2.46300000e+03,\n",
       "          2.49700000e+03,   2.69400000e+03,   3.10500000e+03,\n",
       "          0.00000000e+00,   3.15800000e+03,   3.17500000e+03,\n",
       "          3.19700000e+03,   3.36700000e+03,   0.00000000e+00,\n",
       "          3.47600000e+03,   3.34500000e+03,   3.54800000e+03,\n",
       "          0.00000000e+00,   3.68300000e+03,   3.61400000e+03,\n",
       "          3.72700000e+03,   3.67900000e+03,   0.00000000e+00,\n",
       "          3.76000000e+03,   3.92700000e+03,   4.01000000e+03,\n",
       "          0.00000000e+00,   4.14000000e+03,   4.36500000e+03,\n",
       "          4.38100000e+03,   4.79700000e+03,   0.00000000e+00,\n",
       "          5.45200000e+03,   5.72700000e+03,   6.11800000e+03,\n",
       "          0.00000000e+00,   6.47300000e+03,   6.55100000e+03,\n",
       "          6.55300000e+03,   6.71200000e+03,   0.00000000e+00,\n",
       "          6.08200000e+03,   5.69500000e+03,   5.65100000e+03,\n",
       "          5.51900000e+03,   0.00000000e+00,   5.07600000e+03,\n",
       "          4.75000000e+03,   4.64300000e+03,   0.00000000e+00,\n",
       "          4.16200000e+03,   4.16600000e+03,   3.61900000e+03,\n",
       "          3.31100000e+03,   0.00000000e+00,   3.00900000e+03,\n",
       "          2.92500000e+03,   2.37500000e+03,   0.00000000e+00,\n",
       "          2.12500000e+03,   1.73200000e+03,   1.59700000e+03,\n",
       "          1.28300000e+03,   0.00000000e+00,   1.17700000e+03,\n",
       "          1.05100000e+03,   8.33000000e+02,   0.00000000e+00,\n",
       "          7.06000000e+02,   6.08000000e+02,   5.22000000e+02,\n",
       "          4.13000000e+02,   0.00000000e+00,   3.34000000e+02,\n",
       "          2.66000000e+02,   1.96000000e+02,   1.77000000e+02,\n",
       "          0.00000000e+00,   1.07000000e+02,   1.29000000e+02,\n",
       "          9.30000000e+01,   0.00000000e+00,   7.90000000e+01,\n",
       "          5.80000000e+01,   4.10000000e+01,   2.20000000e+01,\n",
       "          0.00000000e+00,   2.30000000e+01,   3.00000000e+01,\n",
       "          2.10000000e+01,   0.00000000e+00,   1.10000000e+01,\n",
       "          7.00000000e+00,   1.10000000e+01,   8.00000000e+00,\n",
       "          0.00000000e+00,   1.00000000e+01,   3.00000000e+00,\n",
       "          4.00000000e+00,   2.00000000e+00]),\n",
       " array([   0.     ,    0.78125,    1.5625 ,    2.34375,    3.125  ,\n",
       "           3.90625,    4.6875 ,    5.46875,    6.25   ,    7.03125,\n",
       "           7.8125 ,    8.59375,    9.375  ,   10.15625,   10.9375 ,\n",
       "          11.71875,   12.5    ,   13.28125,   14.0625 ,   14.84375,\n",
       "          15.625  ,   16.40625,   17.1875 ,   17.96875,   18.75   ,\n",
       "          19.53125,   20.3125 ,   21.09375,   21.875  ,   22.65625,\n",
       "          23.4375 ,   24.21875,   25.     ,   25.78125,   26.5625 ,\n",
       "          27.34375,   28.125  ,   28.90625,   29.6875 ,   30.46875,\n",
       "          31.25   ,   32.03125,   32.8125 ,   33.59375,   34.375  ,\n",
       "          35.15625,   35.9375 ,   36.71875,   37.5    ,   38.28125,\n",
       "          39.0625 ,   39.84375,   40.625  ,   41.40625,   42.1875 ,\n",
       "          42.96875,   43.75   ,   44.53125,   45.3125 ,   46.09375,\n",
       "          46.875  ,   47.65625,   48.4375 ,   49.21875,   50.     ,\n",
       "          50.78125,   51.5625 ,   52.34375,   53.125  ,   53.90625,\n",
       "          54.6875 ,   55.46875,   56.25   ,   57.03125,   57.8125 ,\n",
       "          58.59375,   59.375  ,   60.15625,   60.9375 ,   61.71875,\n",
       "          62.5    ,   63.28125,   64.0625 ,   64.84375,   65.625  ,\n",
       "          66.40625,   67.1875 ,   67.96875,   68.75   ,   69.53125,\n",
       "          70.3125 ,   71.09375,   71.875  ,   72.65625,   73.4375 ,\n",
       "          74.21875,   75.     ,   75.78125,   76.5625 ,   77.34375,\n",
       "          78.125  ,   78.90625,   79.6875 ,   80.46875,   81.25   ,\n",
       "          82.03125,   82.8125 ,   83.59375,   84.375  ,   85.15625,\n",
       "          85.9375 ,   86.71875,   87.5    ,   88.28125,   89.0625 ,\n",
       "          89.84375,   90.625  ,   91.40625,   92.1875 ,   92.96875,\n",
       "          93.75   ,   94.53125,   95.3125 ,   96.09375,   96.875  ,\n",
       "          97.65625,   98.4375 ,   99.21875,  100.     ]),\n",
       " <a list of 128 Patch objects>)"
      ]
     },
     "execution_count": 13,
     "metadata": {},
     "output_type": "execute_result"
    },
    {
     "data": {
      "image/png": "[encoded data removed]",
      "text/plain": [
       "<Figure size 432x288 with 1 Axes>"
      ]
     },
     "metadata": {
      "needs_background": "light"
     },
     "output_type": "display_data"
    }
   ],
   "source": [
    "plt.hist(df.popularity, bins = 'auto')"
   ]
  },
  {
   "cell_type": "code",
   "execution_count": 14,
   "metadata": {},
   "outputs": [
    {
     "data": {
      "text/plain": [
       "(array([ 1722.,  1736.,  1907.,  1721.,  1706.,  1596.,  1631.,  1613.,\n",
       "         1460.,  1723.,  1717.,  1511.,  1622.,  1500.,  1528.,  1652.,\n",
       "         1370.,  1600.,  1608.,  1466.,  1780.,  1835.,  1596.,  1959.,\n",
       "         2057.,  1916.,  2244.,  1908.,  2092.,  2325.,  2347.,  2487.,\n",
       "         2735.,  2437.,  2808.,  3334.,  2973.,  3338.,  3528.,  3210.,\n",
       "         3283.,  3835.,  3526.,  3765.,  3883.,  3681.,  3975.,  3422.,\n",
       "         3870.,  4218.,  3753.,  4232.,  4445.,  4055.,  4393.,  4277.,\n",
       "         4126.,  4529.,  4279.,  3754.,  3893.,  3766.,  3775.,  4282.,\n",
       "         3763.,  4148.,  4119.,  3731.,  3985.,  4065.,  3586.,  3732.,\n",
       "         3520.,  3251.,  3667.,  3183.,  2708.,  2697.,  1689.]),\n",
       " array([  2.03000000e-05,   1.26656127e-02,   2.53109253e-02,\n",
       "          3.79562380e-02,   5.06015506e-02,   6.32468633e-02,\n",
       "          7.58921759e-02,   8.85374886e-02,   1.01182801e-01,\n",
       "          1.13828114e-01,   1.26473427e-01,   1.39118739e-01,\n",
       "          1.51764052e-01,   1.64409365e-01,   1.77054677e-01,\n",
       "          1.89699990e-01,   2.02345303e-01,   2.14990615e-01,\n",
       "          2.27635928e-01,   2.40281241e-01,   2.52926553e-01,\n",
       "          2.65571866e-01,   2.78217178e-01,   2.90862491e-01,\n",
       "          3.03507804e-01,   3.16153116e-01,   3.28798429e-01,\n",
       "          3.41443742e-01,   3.54089054e-01,   3.66734367e-01,\n",
       "          3.79379680e-01,   3.92024992e-01,   4.04670305e-01,\n",
       "          4.17315618e-01,   4.29960930e-01,   4.42606243e-01,\n",
       "          4.55251556e-01,   4.67896868e-01,   4.80542181e-01,\n",
       "          4.93187494e-01,   5.05832806e-01,   5.18478119e-01,\n",
       "          5.31123432e-01,   5.43768744e-01,   5.56414057e-01,\n",
       "          5.69059370e-01,   5.81704682e-01,   5.94349995e-01,\n",
       "          6.06995308e-01,   6.19640620e-01,   6.32285933e-01,\n",
       "          6.44931246e-01,   6.57576558e-01,   6.70221871e-01,\n",
       "          6.82867184e-01,   6.95512496e-01,   7.08157809e-01,\n",
       "          7.20803122e-01,   7.33448434e-01,   7.46093747e-01,\n",
       "          7.58739059e-01,   7.71384372e-01,   7.84029685e-01,\n",
       "          7.96674997e-01,   8.09320310e-01,   8.21965623e-01,\n",
       "          8.34610935e-01,   8.47256248e-01,   8.59901561e-01,\n",
       "          8.72546873e-01,   8.85192186e-01,   8.97837499e-01,\n",
       "          9.10482811e-01,   9.23128124e-01,   9.35773437e-01,\n",
       "          9.48418749e-01,   9.61064062e-01,   9.73709375e-01,\n",
       "          9.86354687e-01,   9.99000000e-01]),\n",
       " <a list of 79 Patch objects>)"
      ]
     },
     "execution_count": 14,
     "metadata": {},
     "output_type": "execute_result"
    },
    {
     "data": {
      "image/png": "[encoded data removed]",
      "text/plain": [
       "<Figure size 432x288 with 1 Axes>"
      ]
     },
     "metadata": {
      "needs_background": "light"
     },
     "output_type": "display_data"
    }
   ],
   "source": [
    "plt.hist(df.energy, bins = 'auto')"
   ]
  },
  {
   "cell_type": "code",
   "execution_count": 15,
   "metadata": {},
   "outputs": [
    {
     "data": {
      "text/plain": [
       "(array([  1.00000000e+00,   0.00000000e+00,   0.00000000e+00,\n",
       "          0.00000000e+00,   0.00000000e+00,   0.00000000e+00,\n",
       "          0.00000000e+00,   0.00000000e+00,   0.00000000e+00,\n",
       "          0.00000000e+00,   0.00000000e+00,   0.00000000e+00,\n",
       "          0.00000000e+00,   0.00000000e+00,   0.00000000e+00,\n",
       "          0.00000000e+00,   0.00000000e+00,   0.00000000e+00,\n",
       "          0.00000000e+00,   0.00000000e+00,   0.00000000e+00,\n",
       "          0.00000000e+00,   0.00000000e+00,   0.00000000e+00,\n",
       "          1.00000000e+00,   2.00000000e+00,   1.00000000e+00,\n",
       "          0.00000000e+00,   2.00000000e+00,   0.00000000e+00,\n",
       "          0.00000000e+00,   1.00000000e+00,   0.00000000e+00,\n",
       "          2.00000000e+00,   0.00000000e+00,   0.00000000e+00,\n",
       "          2.00000000e+00,   3.00000000e+00,   0.00000000e+00,\n",
       "          2.00000000e+00,   3.00000000e+00,   0.00000000e+00,\n",
       "          4.00000000e+00,   5.00000000e+00,   1.00000000e+00,\n",
       "          5.00000000e+00,   0.00000000e+00,   2.00000000e+00,\n",
       "          2.00000000e+00,   6.00000000e+00,   3.00000000e+00,\n",
       "          5.00000000e+00,   2.00000000e+00,   8.00000000e+00,\n",
       "          6.00000000e+00,   1.10000000e+01,   4.00000000e+00,\n",
       "          7.00000000e+00,   1.10000000e+01,   4.00000000e+00,\n",
       "          6.00000000e+00,   8.00000000e+00,   1.20000000e+01,\n",
       "          6.00000000e+00,   7.00000000e+00,   1.50000000e+01,\n",
       "          7.00000000e+00,   1.70000000e+01,   1.10000000e+01,\n",
       "          1.70000000e+01,   1.70000000e+01,   1.90000000e+01,\n",
       "          2.10000000e+01,   1.90000000e+01,   1.50000000e+01,\n",
       "          9.00000000e+00,   2.00000000e+01,   2.50000000e+01,\n",
       "          1.60000000e+01,   2.20000000e+01,   1.70000000e+01,\n",
       "          3.10000000e+01,   2.20000000e+01,   3.20000000e+01,\n",
       "          2.60000000e+01,   3.60000000e+01,   2.30000000e+01,\n",
       "          2.30000000e+01,   3.70000000e+01,   3.20000000e+01,\n",
       "          4.60000000e+01,   3.60000000e+01,   2.70000000e+01,\n",
       "          2.40000000e+01,   5.30000000e+01,   4.50000000e+01,\n",
       "          3.90000000e+01,   3.60000000e+01,   4.30000000e+01,\n",
       "          6.50000000e+01,   4.40000000e+01,   4.80000000e+01,\n",
       "          5.70000000e+01,   6.20000000e+01,   7.10000000e+01,\n",
       "          7.40000000e+01,   8.90000000e+01,   6.80000000e+01,\n",
       "          9.30000000e+01,   5.70000000e+01,   8.20000000e+01,\n",
       "          9.30000000e+01,   8.70000000e+01,   1.11000000e+02,\n",
       "          8.70000000e+01,   9.00000000e+01,   1.15000000e+02,\n",
       "          1.04000000e+02,   1.47000000e+02,   1.16000000e+02,\n",
       "          1.17000000e+02,   1.21000000e+02,   1.15000000e+02,\n",
       "          1.32000000e+02,   1.62000000e+02,   1.56000000e+02,\n",
       "          1.74000000e+02,   1.41000000e+02,   1.75000000e+02,\n",
       "          1.62000000e+02,   1.89000000e+02,   1.74000000e+02,\n",
       "          1.87000000e+02,   2.05000000e+02,   2.16000000e+02,\n",
       "          2.13000000e+02,   1.93000000e+02,   2.22000000e+02,\n",
       "          2.19000000e+02,   1.90000000e+02,   2.25000000e+02,\n",
       "          2.26000000e+02,   2.44000000e+02,   2.32000000e+02,\n",
       "          2.31000000e+02,   2.77000000e+02,   2.87000000e+02,\n",
       "          2.65000000e+02,   2.67000000e+02,   2.94000000e+02,\n",
       "          3.29000000e+02,   3.19000000e+02,   3.52000000e+02,\n",
       "          3.75000000e+02,   3.23000000e+02,   3.51000000e+02,\n",
       "          3.67000000e+02,   3.72000000e+02,   3.63000000e+02,\n",
       "          4.03000000e+02,   3.36000000e+02,   3.92000000e+02,\n",
       "          3.93000000e+02,   4.32000000e+02,   3.89000000e+02,\n",
       "          4.04000000e+02,   4.71000000e+02,   4.58000000e+02,\n",
       "          4.48000000e+02,   4.69000000e+02,   4.84000000e+02,\n",
       "          4.57000000e+02,   4.95000000e+02,   5.05000000e+02,\n",
       "          5.32000000e+02,   5.00000000e+02,   5.39000000e+02,\n",
       "          5.30000000e+02,   5.37000000e+02,   5.82000000e+02,\n",
       "          5.83000000e+02,   6.42000000e+02,   5.68000000e+02,\n",
       "          6.30000000e+02,   6.85000000e+02,   6.86000000e+02,\n",
       "          6.76000000e+02,   7.13000000e+02,   6.93000000e+02,\n",
       "          7.32000000e+02,   7.96000000e+02,   7.28000000e+02,\n",
       "          7.76000000e+02,   7.82000000e+02,   8.42000000e+02,\n",
       "          8.55000000e+02,   8.92000000e+02,   9.21000000e+02,\n",
       "          9.57000000e+02,   9.30000000e+02,   1.10000000e+03,\n",
       "          1.03900000e+03,   1.10700000e+03,   1.21000000e+03,\n",
       "          1.20500000e+03,   1.20900000e+03,   1.35800000e+03,\n",
       "          1.34400000e+03,   1.31800000e+03,   1.48200000e+03,\n",
       "          1.44400000e+03,   1.63200000e+03,   1.63300000e+03,\n",
       "          1.75600000e+03,   1.74600000e+03,   1.88600000e+03,\n",
       "          1.96500000e+03,   1.93700000e+03,   2.07200000e+03,\n",
       "          2.22700000e+03,   2.32700000e+03,   2.44600000e+03,\n",
       "          2.53900000e+03,   2.57200000e+03,   2.89700000e+03,\n",
       "          2.97200000e+03,   2.91300000e+03,   3.05900000e+03,\n",
       "          3.39700000e+03,   3.50500000e+03,   3.80000000e+03,\n",
       "          3.73900000e+03,   4.08300000e+03,   4.14900000e+03,\n",
       "          4.55400000e+03,   4.56300000e+03,   4.80300000e+03,\n",
       "          4.79000000e+03,   4.98600000e+03,   5.29800000e+03,\n",
       "          5.29300000e+03,   5.24700000e+03,   5.61300000e+03,\n",
       "          5.50400000e+03,   5.71000000e+03,   5.78200000e+03,\n",
       "          5.37000000e+03,   5.55400000e+03,   5.05700000e+03,\n",
       "          4.87200000e+03,   4.64500000e+03,   4.35900000e+03,\n",
       "          3.91000000e+03,   3.46100000e+03,   3.13700000e+03,\n",
       "          2.85300000e+03,   2.33900000e+03,   1.94100000e+03,\n",
       "          1.58200000e+03,   1.26400000e+03,   8.74000000e+02,\n",
       "          7.74000000e+02,   5.13000000e+02,   4.06000000e+02,\n",
       "          3.00000000e+02,   2.46000000e+02,   2.03000000e+02,\n",
       "          1.41000000e+02,   9.30000000e+01,   7.70000000e+01,\n",
       "          4.40000000e+01,   3.90000000e+01,   3.40000000e+01,\n",
       "          2.00000000e+01,   1.70000000e+01,   4.00000000e+00,\n",
       "          1.10000000e+01,   5.00000000e+00,   3.00000000e+00,\n",
       "          3.00000000e+00,   8.00000000e+00,   1.00000000e+00]),\n",
       " array([ -5.24570000e+01,  -5.22653617e+01,  -5.20737234e+01,\n",
       "         -5.18820851e+01,  -5.16904468e+01,  -5.14988085e+01,\n",
       "         -5.13071702e+01,  -5.11155319e+01,  -5.09238936e+01,\n",
       "         -5.07322553e+01,  -5.05406170e+01,  -5.03489787e+01,\n",
       "         -5.01573404e+01,  -4.99657021e+01,  -4.97740638e+01,\n",
       "         -4.95824255e+01,  -4.93907872e+01,  -4.91991489e+01,\n",
       "         -4.90075106e+01,  -4.88158723e+01,  -4.86242340e+01,\n",
       "         -4.84325957e+01,  -4.82409574e+01,  -4.80493191e+01,\n",
       "         -4.78576809e+01,  -4.76660426e+01,  -4.74744043e+01,\n",
       "         -4.72827660e+01,  -4.70911277e+01,  -4.68994894e+01,\n",
       "         -4.67078511e+01,  -4.65162128e+01,  -4.63245745e+01,\n",
       "         -4.61329362e+01,  -4.59412979e+01,  -4.57496596e+01,\n",
       "         -4.55580213e+01,  -4.53663830e+01,  -4.51747447e+01,\n",
       "         -4.49831064e+01,  -4.47914681e+01,  -4.45998298e+01,\n",
       "         -4.44081915e+01,  -4.42165532e+01,  -4.40249149e+01,\n",
       "         -4.38332766e+01,  -4.36416383e+01,  -4.34500000e+01,\n",
       "         -4.32583617e+01,  -4.30667234e+01,  -4.28750851e+01,\n",
       "         -4.26834468e+01,  -4.24918085e+01,  -4.23001702e+01,\n",
       "         -4.21085319e+01,  -4.19168936e+01,  -4.17252553e+01,\n",
       "         -4.15336170e+01,  -4.13419787e+01,  -4.11503404e+01,\n",
       "         -4.09587021e+01,  -4.07670638e+01,  -4.05754255e+01,\n",
       "         -4.03837872e+01,  -4.01921489e+01,  -4.00005106e+01,\n",
       "         -3.98088723e+01,  -3.96172340e+01,  -3.94255957e+01,\n",
       "         -3.92339574e+01,  -3.90423191e+01,  -3.88506809e+01,\n",
       "         -3.86590426e+01,  -3.84674043e+01,  -3.82757660e+01,\n",
       "         -3.80841277e+01,  -3.78924894e+01,  -3.77008511e+01,\n",
       "         -3.75092128e+01,  -3.73175745e+01,  -3.71259362e+01,\n",
       "         -3.69342979e+01,  -3.67426596e+01,  -3.65510213e+01,\n",
       "         -3.63593830e+01,  -3.61677447e+01,  -3.59761064e+01,\n",
       "         -3.57844681e+01,  -3.55928298e+01,  -3.54011915e+01,\n",
       "         -3.52095532e+01,  -3.50179149e+01,  -3.48262766e+01,\n",
       "         -3.46346383e+01,  -3.44430000e+01,  -3.42513617e+01,\n",
       "         -3.40597234e+01,  -3.38680851e+01,  -3.36764468e+01,\n",
       "         -3.34848085e+01,  -3.32931702e+01,  -3.31015319e+01,\n",
       "         -3.29098936e+01,  -3.27182553e+01,  -3.25266170e+01,\n",
       "         -3.23349787e+01,  -3.21433404e+01,  -3.19517021e+01,\n",
       "         -3.17600638e+01,  -3.15684255e+01,  -3.13767872e+01,\n",
       "         -3.11851489e+01,  -3.09935106e+01,  -3.08018723e+01,\n",
       "         -3.06102340e+01,  -3.04185957e+01,  -3.02269574e+01,\n",
       "         -3.00353191e+01,  -2.98436809e+01,  -2.96520426e+01,\n",
       "         -2.94604043e+01,  -2.92687660e+01,  -2.90771277e+01,\n",
       "         -2.88854894e+01,  -2.86938511e+01,  -2.85022128e+01,\n",
       "         -2.83105745e+01,  -2.81189362e+01,  -2.79272979e+01,\n",
       "         -2.77356596e+01,  -2.75440213e+01,  -2.73523830e+01,\n",
       "         -2.71607447e+01,  -2.69691064e+01,  -2.67774681e+01,\n",
       "         -2.65858298e+01,  -2.63941915e+01,  -2.62025532e+01,\n",
       "         -2.60109149e+01,  -2.58192766e+01,  -2.56276383e+01,\n",
       "         -2.54360000e+01,  -2.52443617e+01,  -2.50527234e+01,\n",
       "         -2.48610851e+01,  -2.46694468e+01,  -2.44778085e+01,\n",
       "         -2.42861702e+01,  -2.40945319e+01,  -2.39028936e+01,\n",
       "         -2.37112553e+01,  -2.35196170e+01,  -2.33279787e+01,\n",
       "         -2.31363404e+01,  -2.29447021e+01,  -2.27530638e+01,\n",
       "         -2.25614255e+01,  -2.23697872e+01,  -2.21781489e+01,\n",
       "         -2.19865106e+01,  -2.17948723e+01,  -2.16032340e+01,\n",
       "         -2.14115957e+01,  -2.12199574e+01,  -2.10283191e+01,\n",
       "         -2.08366809e+01,  -2.06450426e+01,  -2.04534043e+01,\n",
       "         -2.02617660e+01,  -2.00701277e+01,  -1.98784894e+01,\n",
       "         -1.96868511e+01,  -1.94952128e+01,  -1.93035745e+01,\n",
       "         -1.91119362e+01,  -1.89202979e+01,  -1.87286596e+01,\n",
       "         -1.85370213e+01,  -1.83453830e+01,  -1.81537447e+01,\n",
       "         -1.79621064e+01,  -1.77704681e+01,  -1.75788298e+01,\n",
       "         -1.73871915e+01,  -1.71955532e+01,  -1.70039149e+01,\n",
       "         -1.68122766e+01,  -1.66206383e+01,  -1.64290000e+01,\n",
       "         -1.62373617e+01,  -1.60457234e+01,  -1.58540851e+01,\n",
       "         -1.56624468e+01,  -1.54708085e+01,  -1.52791702e+01,\n",
       "         -1.50875319e+01,  -1.48958936e+01,  -1.47042553e+01,\n",
       "         -1.45126170e+01,  -1.43209787e+01,  -1.41293404e+01,\n",
       "         -1.39377021e+01,  -1.37460638e+01,  -1.35544255e+01,\n",
       "         -1.33627872e+01,  -1.31711489e+01,  -1.29795106e+01,\n",
       "         -1.27878723e+01,  -1.25962340e+01,  -1.24045957e+01,\n",
       "         -1.22129574e+01,  -1.20213191e+01,  -1.18296809e+01,\n",
       "         -1.16380426e+01,  -1.14464043e+01,  -1.12547660e+01,\n",
       "         -1.10631277e+01,  -1.08714894e+01,  -1.06798511e+01,\n",
       "         -1.04882128e+01,  -1.02965745e+01,  -1.01049362e+01,\n",
       "         -9.91329787e+00,  -9.72165957e+00,  -9.53002128e+00,\n",
       "         -9.33838298e+00,  -9.14674468e+00,  -8.95510638e+00,\n",
       "         -8.76346809e+00,  -8.57182979e+00,  -8.38019149e+00,\n",
       "         -8.18855319e+00,  -7.99691489e+00,  -7.80527660e+00,\n",
       "         -7.61363830e+00,  -7.42200000e+00,  -7.23036170e+00,\n",
       "         -7.03872340e+00,  -6.84708511e+00,  -6.65544681e+00,\n",
       "         -6.46380851e+00,  -6.27217021e+00,  -6.08053191e+00,\n",
       "         -5.88889362e+00,  -5.69725532e+00,  -5.50561702e+00,\n",
       "         -5.31397872e+00,  -5.12234043e+00,  -4.93070213e+00,\n",
       "         -4.73906383e+00,  -4.54742553e+00,  -4.35578723e+00,\n",
       "         -4.16414894e+00,  -3.97251064e+00,  -3.78087234e+00,\n",
       "         -3.58923404e+00,  -3.39759574e+00,  -3.20595745e+00,\n",
       "         -3.01431915e+00,  -2.82268085e+00,  -2.63104255e+00,\n",
       "         -2.43940426e+00,  -2.24776596e+00,  -2.05612766e+00,\n",
       "         -1.86448936e+00,  -1.67285106e+00,  -1.48121277e+00,\n",
       "         -1.28957447e+00,  -1.09793617e+00,  -9.06297872e-01,\n",
       "         -7.14659574e-01,  -5.23021277e-01,  -3.31382979e-01,\n",
       "         -1.39744681e-01,   5.18936170e-02,   2.43531915e-01,\n",
       "          4.35170213e-01,   6.26808511e-01,   8.18446809e-01,\n",
       "          1.01008511e+00,   1.20172340e+00,   1.39336170e+00,\n",
       "          1.58500000e+00]),\n",
       " <a list of 282 Patch objects>)"
      ]
     },
     "execution_count": 15,
     "metadata": {},
     "output_type": "execute_result"
    },
    {
     "data": {
      "image/png": "[encoded data removed]",
      "text/plain": [
       "<Figure size 432x288 with 1 Axes>"
      ]
     },
     "metadata": {
      "needs_background": "light"
     },
     "output_type": "display_data"
    }
   ],
   "source": [
    "plt.hist(df.loudness, bins = 'auto')"
   ]
  },
  {
   "cell_type": "code",
   "execution_count": 16,
   "metadata": {},
   "outputs": [
    {
     "data": {
      "text/plain": [
       "(array([  331.,   391.,   396.,   446.,   375.,   396.,   354.,   414.,\n",
       "          458.,   607.,   676.,   745.,   807.,  1052.,   873.,   843.,\n",
       "          953.,   986.,   987.,   979.,   973.,   961.,  1203.,  1139.,\n",
       "         1084.,  1149.,  1358.,  1195.,  1302.,  1257.,  1524.,  1487.,\n",
       "         1587.,  1593.,  1582.,  1784.,  1661.,  1854.,  1940.,  2210.,\n",
       "         2147.,  2305.,  2215.,  2734.,  2554.,  2618.,  2644.,  2877.,\n",
       "         3223.,  2989.,  3124.,  3210.,  3842.,  3373.,  3616.,  3560.,\n",
       "         4155.,  3775.,  3723.,  4018.,  3887.,  4237.,  3878.,  3973.,\n",
       "         3791.,  4521.,  3838.,  3808.,  3996.,  4334.,  3877.,  3674.,\n",
       "         3880.,  3580.,  4188.,  3686.,  3626.,  3419.,  3861.,  3431.,\n",
       "         3181.,  2931.,  3286.,  2786.,  2758.,  2644.,  2576.,  2679.,\n",
       "         2334.,  2269.,  2116.,  1981.,  1640.,  1669.,  1460.,  1479.,\n",
       "         1269.,  1059.,   927.,   932.,   862.,   603.,   607.,   443.,\n",
       "          450.,   331.,   241.,   202.,   132.,    98.,    70.,    34.,\n",
       "           11.]),\n",
       " array([ 0.0569    ,  0.06513097,  0.07336195,  0.08159292,  0.08982389,\n",
       "         0.09805487,  0.10628584,  0.11451681,  0.12274779,  0.13097876,\n",
       "         0.13920973,  0.14744071,  0.15567168,  0.16390265,  0.17213363,\n",
       "         0.1803646 ,  0.18859558,  0.19682655,  0.20505752,  0.2132885 ,\n",
       "         0.22151947,  0.22975044,  0.23798142,  0.24621239,  0.25444336,\n",
       "         0.26267434,  0.27090531,  0.27913628,  0.28736726,  0.29559823,\n",
       "         0.3038292 ,  0.31206018,  0.32029115,  0.32852212,  0.3367531 ,\n",
       "         0.34498407,  0.35321504,  0.36144602,  0.36967699,  0.37790796,\n",
       "         0.38613894,  0.39436991,  0.40260088,  0.41083186,  0.41906283,\n",
       "         0.42729381,  0.43552478,  0.44375575,  0.45198673,  0.4602177 ,\n",
       "         0.46844867,  0.47667965,  0.48491062,  0.49314159,  0.50137257,\n",
       "         0.50960354,  0.51783451,  0.52606549,  0.53429646,  0.54252743,\n",
       "         0.55075841,  0.55898938,  0.56722035,  0.57545133,  0.5836823 ,\n",
       "         0.59191327,  0.60014425,  0.60837522,  0.61660619,  0.62483717,\n",
       "         0.63306814,  0.64129912,  0.64953009,  0.65776106,  0.66599204,\n",
       "         0.67422301,  0.68245398,  0.69068496,  0.69891593,  0.7071469 ,\n",
       "         0.71537788,  0.72360885,  0.73183982,  0.7400708 ,  0.74830177,\n",
       "         0.75653274,  0.76476372,  0.77299469,  0.78122566,  0.78945664,\n",
       "         0.79768761,  0.80591858,  0.81414956,  0.82238053,  0.8306115 ,\n",
       "         0.83884248,  0.84707345,  0.85530442,  0.8635354 ,  0.87176637,\n",
       "         0.87999735,  0.88822832,  0.89645929,  0.90469027,  0.91292124,\n",
       "         0.92115221,  0.92938319,  0.93761416,  0.94584513,  0.95407611,\n",
       "         0.96230708,  0.97053805,  0.97876903,  0.987     ]),\n",
       " <a list of 113 Patch objects>)"
      ]
     },
     "execution_count": 16,
     "metadata": {},
     "output_type": "execute_result"
    },
    {
     "data": {
      "image/png": "[encoded data removed]",
      "text/plain": [
       "<Figure size 432x288 with 1 Axes>"
      ]
     },
     "metadata": {
      "needs_background": "light"
     },
     "output_type": "display_data"
    }
   ],
   "source": [
    "plt.hist(df.danceability, bins = 'auto')"
   ]
  },
  {
   "cell_type": "code",
   "execution_count": 17,
   "metadata": {},
   "outputs": [
    {
     "data": {
      "text/plain": [
       "(array([   23.,   128.,  8801.,  2698.,  3201.,  3724.,  2650.,  2843.,\n",
       "         3542.,  2941.,  3206.,  3597.,  3601.,  3594.,  3737.,  3750.,\n",
       "         3490.,  3919.,  3212.,  3237.,  3609.,  3891.,  3641.,  3632.,\n",
       "         4352.,  4002.,  4628.,  3949.,  3935.,  3992.,  3838.,  3644.,\n",
       "         3620.,  3825.,  3333.,  3668.,  3880.,  3836.,  3639.,  4042.,\n",
       "         3640.,  3709.,  3798.,  3226.,  3714.,  3075.,  3146.,  3034.,\n",
       "         3393.,  3076.,  2931.,  3192.,  2861.,  3031.,  2674.,  2535.,\n",
       "         2427.,  2747.,  2517.,  2219.,  2381.,  2277.,  1964.,  1940.,\n",
       "         1852.,  1759.,  2076.,  1683.,  1395.,  1627.,  1338.,  1194.,\n",
       "         2594.,   270.,    14.]),\n",
       " array([ 0.        ,  0.01333333,  0.02666667,  0.04      ,  0.05333333,\n",
       "         0.06666667,  0.08      ,  0.09333333,  0.10666667,  0.12      ,\n",
       "         0.13333333,  0.14666667,  0.16      ,  0.17333333,  0.18666667,\n",
       "         0.2       ,  0.21333333,  0.22666667,  0.24      ,  0.25333333,\n",
       "         0.26666667,  0.28      ,  0.29333333,  0.30666667,  0.32      ,\n",
       "         0.33333333,  0.34666667,  0.36      ,  0.37333333,  0.38666667,\n",
       "         0.4       ,  0.41333333,  0.42666667,  0.44      ,  0.45333333,\n",
       "         0.46666667,  0.48      ,  0.49333333,  0.50666667,  0.52      ,\n",
       "         0.53333333,  0.54666667,  0.56      ,  0.57333333,  0.58666667,\n",
       "         0.6       ,  0.61333333,  0.62666667,  0.64      ,  0.65333333,\n",
       "         0.66666667,  0.68      ,  0.69333333,  0.70666667,  0.72      ,\n",
       "         0.73333333,  0.74666667,  0.76      ,  0.77333333,  0.78666667,\n",
       "         0.8       ,  0.81333333,  0.82666667,  0.84      ,  0.85333333,\n",
       "         0.86666667,  0.88      ,  0.89333333,  0.90666667,  0.92      ,\n",
       "         0.93333333,  0.94666667,  0.96      ,  0.97333333,  0.98666667,  1.        ]),\n",
       " <a list of 75 Patch objects>)"
      ]
     },
     "execution_count": 17,
     "metadata": {},
     "output_type": "execute_result"
    },
    {
     "data": {
      "image/png": "[encoded data removed]",
      "text/plain": [
       "<Figure size 432x288 with 1 Axes>"
      ]
     },
     "metadata": {
      "needs_background": "light"
     },
     "output_type": "display_data"
    }
   ],
   "source": [
    "plt.hist(df.valence, bins = 'auto')"
   ]
  },
  {
   "cell_type": "code",
   "execution_count": 18,
   "metadata": {},
   "outputs": [
    {
     "data": {
      "text/plain": [
       "(array([ 49232.,  14822.,  10577.,   8221.,   6814.,   6416.,   5571.,\n",
       "          4882.,   4660.,   4190.,   4074.,   3576.,   3360.,   3157.,\n",
       "          2949.,   2969.,   2676.,   2616.,   2333.,   2272.,   2403.,\n",
       "          2113.,   2237.,   1962.,   2034.,   2003.,   1912.,   2039.,\n",
       "          1900.,   1949.,   2069.,   2142.,   2051.,   2254.,   2498.,\n",
       "          2502.,   2830.,   3079.,   3054.,   3333.,   3474.,   3731.,\n",
       "          3739.,   3949.,   4601.,   6736.,  10198.]),\n",
       " array([  1.00000000e-06,   2.11924681e-02,   4.23839362e-02,\n",
       "          6.35754043e-02,   8.47668723e-02,   1.05958340e-01,\n",
       "          1.27149809e-01,   1.48341277e-01,   1.69532745e-01,\n",
       "          1.90724213e-01,   2.11915681e-01,   2.33107149e-01,\n",
       "          2.54298617e-01,   2.75490085e-01,   2.96681553e-01,\n",
       "          3.17873021e-01,   3.39064489e-01,   3.60255957e-01,\n",
       "          3.81447426e-01,   4.02638894e-01,   4.23830362e-01,\n",
       "          4.45021830e-01,   4.66213298e-01,   4.87404766e-01,\n",
       "          5.08596234e-01,   5.29787702e-01,   5.50979170e-01,\n",
       "          5.72170638e-01,   5.93362106e-01,   6.14553574e-01,\n",
       "          6.35745043e-01,   6.56936511e-01,   6.78127979e-01,\n",
       "          6.99319447e-01,   7.20510915e-01,   7.41702383e-01,\n",
       "          7.62893851e-01,   7.84085319e-01,   8.05276787e-01,\n",
       "          8.26468255e-01,   8.47659723e-01,   8.68851191e-01,\n",
       "          8.90042660e-01,   9.11234128e-01,   9.32425596e-01,\n",
       "          9.53617064e-01,   9.74808532e-01,   9.96000000e-01]),\n",
       " <a list of 47 Patch objects>)"
      ]
     },
     "execution_count": 18,
     "metadata": {},
     "output_type": "execute_result"
    },
    {
     "data": {
      "image/png": "[encoded data removed]",
      "text/plain": [
       "<Figure size 432x288 with 1 Axes>"
      ]
     },
     "metadata": {
      "needs_background": "light"
     },
     "output_type": "display_data"
    }
   ],
   "source": [
    "plt.hist(df.acousticness, bins = 'auto')"
   ]
  },
  {
   "cell_type": "code",
   "execution_count": 19,
   "metadata": {},
   "outputs": [
    {
     "data": {
      "text/plain": [
       "(array([ 13.,  12.,  20., ...,   0.,   0.,   1.]),\n",
       " array([  0.25848333,   0.30134916,   0.34421499, ...,  92.46288501,\n",
       "         92.50575084,  92.54861667]),\n",
       " <a list of 2153 Patch objects>)"
      ]
     },
     "execution_count": 19,
     "metadata": {},
     "output_type": "execute_result"
    },
    {
     "data": {
      "image/png": "[encoded data removed]",
      "text/plain": [
       "<Figure size 432x288 with 1 Axes>"
      ]
     },
     "metadata": {
      "needs_background": "light"
     },
     "output_type": "display_data"
    }
   ],
   "source": [
    "plt.hist(df.duration_min, bins = 'auto')"
   ]
  },
  {
   "cell_type": "markdown",
   "metadata": {},
   "source": [
    "#### From the frequency distributions it seems that tempo and energy are the most contributing factors for valence"
   ]
  },
  {
   "cell_type": "markdown",
   "metadata": {},
   "source": [
    "### Isolating tempo, energy and valence"
   ]
  },
  {
   "cell_type": "code",
   "execution_count": 22,
   "metadata": {},
   "outputs": [
    {
     "data": {
      "text/html": [
       "<div>\n",
       "<style scoped>\n",
       "    .dataframe tbody tr th:only-of-type {\n",
       "        vertical-align: middle;\n",
       "    }\n",
       "\n",
       "    .dataframe tbody tr th {\n",
       "        vertical-align: top;\n",
       "    }\n",
       "\n",
       "    .dataframe thead th {\n",
       "        text-align: right;\n",
       "    }\n",
       "</style>\n",
       "<table border=\"1\" class=\"dataframe\">\n",
       "  <thead>\n",
       "    <tr style=\"text-align: right;\">\n",
       "      <th></th>\n",
       "      <th>tempo</th>\n",
       "      <th>energy</th>\n",
       "      <th>valence</th>\n",
       "    </tr>\n",
       "  </thead>\n",
       "  <tbody>\n",
       "    <tr>\n",
       "      <th>0</th>\n",
       "      <td>0.86001</td>\n",
       "      <td>0.23100</td>\n",
       "      <td>0.0886</td>\n",
       "    </tr>\n",
       "    <tr>\n",
       "      <th>1</th>\n",
       "      <td>1.31798</td>\n",
       "      <td>0.20100</td>\n",
       "      <td>0.3690</td>\n",
       "    </tr>\n",
       "    <tr>\n",
       "      <th>2</th>\n",
       "      <td>0.75126</td>\n",
       "      <td>0.47000</td>\n",
       "      <td>0.0696</td>\n",
       "    </tr>\n",
       "    <tr>\n",
       "      <th>3</th>\n",
       "      <td>0.76493</td>\n",
       "      <td>0.00605</td>\n",
       "      <td>0.0380</td>\n",
       "    </tr>\n",
       "    <tr>\n",
       "      <th>4</th>\n",
       "      <td>1.72935</td>\n",
       "      <td>0.05800</td>\n",
       "      <td>0.0382</td>\n",
       "    </tr>\n",
       "  </tbody>\n",
       "</table>\n",
       "</div>"
      ],
      "text/plain": [
       "     tempo   energy  valence\n",
       "0  0.86001  0.23100   0.0886\n",
       "1  1.31798  0.20100   0.3690\n",
       "2  0.75126  0.47000   0.0696\n",
       "3  0.76493  0.00605   0.0380\n",
       "4  1.72935  0.05800   0.0382"
      ]
     },
     "execution_count": 22,
     "metadata": {},
     "output_type": "execute_result"
    }
   ],
   "source": [
    "df1 = pd.DataFrame()\n",
    "df1['tempo'] = df.tempo\n",
    "df1['energy'] = df.energy\n",
    "df1['valence'] = df.valence\n",
    "df1.head()"
   ]
  },
  {
   "cell_type": "code",
   "execution_count": 25,
   "metadata": {},
   "outputs": [
    {
     "data": {
      "text/plain": [
       "<matplotlib.axes._subplots.AxesSubplot at 0x7fcc56cfffd0>"
      ]
     },
     "execution_count": 25,
     "metadata": {},
     "output_type": "execute_result"
    },
    {
     "data": {
      "image/png": "[encoded data removed]",
      "text/plain": [
       "<Figure size 432x288 with 1 Axes>"
      ]
     },
     "metadata": {
      "needs_background": "light"
     },
     "output_type": "display_data"
    }
   ],
   "source": [
    "df1.plot()"
   ]
  },
  {
   "cell_type": "markdown",
   "metadata": {},
   "source": [
    "### By this we know that songs with higher energy value and lower tempo contribute to high valence. In other words a song with lowest bpm or pace and highest energy (probably voice pitch which is not included in the features) are indicated to be the most happiest song."
   ]
  }
 ],
 "metadata": {
  "kernelspec": {
   "display_name": "Python 3",
   "language": "python",
   "name": "python3"
  },
  "language_info": {
   "codemirror_mode": {
    "name": "ipython",
    "version": 3
   },
   "file_extension": ".py",
   "mimetype": "text/x-python",
   "name": "python",
   "nbconvert_exporter": "python",
   "pygments_lexer": "ipython3",
   "version": "3.7.3"
  }
 },
 "nbformat": 4,
 "nbformat_minor": 4
}
